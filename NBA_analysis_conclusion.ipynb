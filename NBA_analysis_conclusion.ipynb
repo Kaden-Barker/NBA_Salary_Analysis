{
 "cells": [
  {
   "cell_type": "markdown",
   "id": "fe2f7059",
   "metadata": {},
   "source": [
    "# NBA Statistics Analysis\n",
    "\n",
    "### Goal: Predict NBA Players Salary based on the statistics that they produce\n"
   ]
  },
  {
   "cell_type": "markdown",
   "id": "d7c4fea5",
   "metadata": {},
   "source": [
    "[Opening Data Analysis](opening_data.ipynb)\n",
    "\n",
    "#### Initially Opening Data\n",
    "- Looking at data and combining Salary and Stats Data\n",
    "- Exploring Relationships and Corralations\n"
   ]
  },
  {
   "cell_type": "markdown",
   "id": "b3285707",
   "metadata": {},
   "source": [
    "[Linear Regression](linear_regression.ipynb)\n",
    "#### Performing Logistical Regression\n",
    "- Trying to predict a players salary based on their statistics\n",
    "- Changing the model and data to try and get a better outcome\n",
    "- Convert the MSE to and accuracy score to compare to other models"
   ]
  },
  {
   "cell_type": "markdown",
   "id": "3859cf82",
   "metadata": {},
   "source": [
    "[Random Forest Regressor](random_forest.ipynb)\n",
    "\n",
    "#### Performing Random Forest Regressor\n",
    "- produced a lower RMSE than the Logistical Regression\n",
    "- Changed the range of salaries in the data to try and get a better results\n",
    "- Conovert the MSE to an accuaracy score to compare to other models"
   ]
  },
  {
   "cell_type": "markdown",
   "id": "e0b411ae",
   "metadata": {},
   "source": [
    "[KNN Classifier](knn_classifier.ipynb)\n",
    "\n",
    "#### Performing a KNN Classifiers Model\n",
    "- Adding a column that will put players in a bin based on their salary\n",
    "- Trying to Classify a player to a bin using their Stats Data\n",
    "\n"
   ]
  },
  {
   "cell_type": "markdown",
   "id": "9bf21c34",
   "metadata": {},
   "source": [
    "# Conclusion\n",
    "\n",
    "### Results\n",
    "\n",
    "Each linked notebook contains multiple versions of that type of model:\n",
    "\n",
    "1. **The Linear Regression best model produced**:\n",
    "    - **RMSE**: 7,570,296\n",
    "    - **Accuracy Score**: 0.792\n",
    "\n",
    "2. **The Random Forest Regressor best model produced**:\n",
    "    - **RMSE**: 2,930,781.16\n",
    "    - **Accuracy Score**: 0.864\n",
    "\n",
    "3. **The KNN Classifier's best model produced**:\n",
    "    - **Accuracy Score**: 0.54\n",
    "\n",
    "Based on the results above, we can conclude that the best model for predicting an NBA player's salary based on the stats they produce is a **Random Forest Regressor Model**. Furthermore, the best version of this model was a version that removed the outliers from the data.\n",
    "\n",
    "#### Realization\n",
    "\n",
    "One thing that I realized throughout this process is that players can have or add value without producing more stats. Traits such as leadership, character, work ethic, and basketball IQ are all traits that don't show up in the stat sheet but make a player more or less valuable.\n",
    "\n",
    "### Concluding Statements\n",
    "\n",
    "In summary, while statistical models can provide significant insights into a player's value, they cannot capture the full spectrum of a player's contributions to their team. Inorder to improve the model factors that are not quantifiable need to be taken into account."
   ]
  }
 ],
 "metadata": {
  "kernelspec": {
   "display_name": "Python 3 (ipykernel)",
   "language": "python",
   "name": "python3"
  },
  "language_info": {
   "codemirror_mode": {
    "name": "ipython",
    "version": 3
   },
   "file_extension": ".py",
   "mimetype": "text/x-python",
   "name": "python",
   "nbconvert_exporter": "python",
   "pygments_lexer": "ipython3",
   "version": "3.11.7"
  }
 },
 "nbformat": 4,
 "nbformat_minor": 5
}
